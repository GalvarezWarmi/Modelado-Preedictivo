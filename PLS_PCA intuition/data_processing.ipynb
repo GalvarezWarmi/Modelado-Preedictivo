{
 "cells": [
  {
   "cell_type": "markdown",
   "metadata": {},
   "source": [
    "### Load Libraries"
   ]
  },
  {
   "cell_type": "code",
   "execution_count": 77,
   "metadata": {},
   "outputs": [],
   "source": [
    "import pandas as pd\n",
    "import numpy as np\n",
    "import os\n",
    "import matplotlib.pyplot as plt\n",
    "import seaborn as sns\n",
    "from sklearn.model_selection import train_test_split\n",
    "from sklearn.linear_model import LinearRegression\n",
    "from sklearn.cross_decomposition import PLSRegression\n",
    "\n",
    "from scipy.cluster import hierarchy\n",
    "from sklearn.decomposition import PCA"
   ]
  },
  {
   "cell_type": "code",
   "execution_count": 2,
   "metadata": {},
   "outputs": [
    {
     "data": {
      "text/plain": [
       "['abalone.data']"
      ]
     },
     "execution_count": 2,
     "metadata": {},
     "output_type": "execute_result"
    }
   ],
   "source": [
    "[i for i in os.listdir('datos') if i.endswith('.data')]"
   ]
  },
  {
   "cell_type": "markdown",
   "metadata": {},
   "source": [
    "### Load data"
   ]
  },
  {
   "cell_type": "code",
   "execution_count": 3,
   "metadata": {},
   "outputs": [
    {
     "data": {
      "text/html": [
       "<div>\n",
       "<style scoped>\n",
       "    .dataframe tbody tr th:only-of-type {\n",
       "        vertical-align: middle;\n",
       "    }\n",
       "\n",
       "    .dataframe tbody tr th {\n",
       "        vertical-align: top;\n",
       "    }\n",
       "\n",
       "    .dataframe thead th {\n",
       "        text-align: right;\n",
       "    }\n",
       "</style>\n",
       "<table border=\"1\" class=\"dataframe\">\n",
       "  <thead>\n",
       "    <tr style=\"text-align: right;\">\n",
       "      <th></th>\n",
       "      <th>Sex</th>\n",
       "      <th>Length</th>\n",
       "      <th>Diam</th>\n",
       "      <th>Height</th>\n",
       "      <th>Whole</th>\n",
       "      <th>Shucked</th>\n",
       "      <th>Viscera</th>\n",
       "      <th>Shell</th>\n",
       "      <th>Rings</th>\n",
       "    </tr>\n",
       "  </thead>\n",
       "  <tbody>\n",
       "    <tr>\n",
       "      <th>0</th>\n",
       "      <td>M</td>\n",
       "      <td>0.455</td>\n",
       "      <td>0.365</td>\n",
       "      <td>0.095</td>\n",
       "      <td>0.5140</td>\n",
       "      <td>0.2245</td>\n",
       "      <td>0.1010</td>\n",
       "      <td>0.150</td>\n",
       "      <td>15</td>\n",
       "    </tr>\n",
       "    <tr>\n",
       "      <th>1</th>\n",
       "      <td>M</td>\n",
       "      <td>0.350</td>\n",
       "      <td>0.265</td>\n",
       "      <td>0.090</td>\n",
       "      <td>0.2255</td>\n",
       "      <td>0.0995</td>\n",
       "      <td>0.0485</td>\n",
       "      <td>0.070</td>\n",
       "      <td>7</td>\n",
       "    </tr>\n",
       "    <tr>\n",
       "      <th>2</th>\n",
       "      <td>F</td>\n",
       "      <td>0.530</td>\n",
       "      <td>0.420</td>\n",
       "      <td>0.135</td>\n",
       "      <td>0.6770</td>\n",
       "      <td>0.2565</td>\n",
       "      <td>0.1415</td>\n",
       "      <td>0.210</td>\n",
       "      <td>9</td>\n",
       "    </tr>\n",
       "    <tr>\n",
       "      <th>3</th>\n",
       "      <td>M</td>\n",
       "      <td>0.440</td>\n",
       "      <td>0.365</td>\n",
       "      <td>0.125</td>\n",
       "      <td>0.5160</td>\n",
       "      <td>0.2155</td>\n",
       "      <td>0.1140</td>\n",
       "      <td>0.155</td>\n",
       "      <td>10</td>\n",
       "    </tr>\n",
       "    <tr>\n",
       "      <th>4</th>\n",
       "      <td>I</td>\n",
       "      <td>0.330</td>\n",
       "      <td>0.255</td>\n",
       "      <td>0.080</td>\n",
       "      <td>0.2050</td>\n",
       "      <td>0.0895</td>\n",
       "      <td>0.0395</td>\n",
       "      <td>0.055</td>\n",
       "      <td>7</td>\n",
       "    </tr>\n",
       "  </tbody>\n",
       "</table>\n",
       "</div>"
      ],
      "text/plain": [
       "  Sex  Length   Diam  Height   Whole  Shucked  Viscera  Shell  Rings\n",
       "0   M   0.455  0.365   0.095  0.5140   0.2245   0.1010  0.150     15\n",
       "1   M   0.350  0.265   0.090  0.2255   0.0995   0.0485  0.070      7\n",
       "2   F   0.530  0.420   0.135  0.6770   0.2565   0.1415  0.210      9\n",
       "3   M   0.440  0.365   0.125  0.5160   0.2155   0.1140  0.155     10\n",
       "4   I   0.330  0.255   0.080  0.2050   0.0895   0.0395  0.055      7"
      ]
     },
     "execution_count": 3,
     "metadata": {},
     "output_type": "execute_result"
    }
   ],
   "source": [
    "data = pd.read_csv('datos/abalone.data', header=None)\n",
    "data.columns = [\"Sex\", \"Length\", \"Diam\", \"Height\", \"Whole\", \"Shucked\", \"Viscera\", \"Shell\", \"Rings\"]\n",
    "data.head()"
   ]
  },
  {
   "cell_type": "code",
   "execution_count": 4,
   "metadata": {},
   "outputs": [],
   "source": [
    "# sns.pairplot(data.drop(\"Sex\", axis=1))"
   ]
  },
  {
   "cell_type": "markdown",
   "metadata": {},
   "source": [
    "### Fit model with all variables"
   ]
  },
  {
   "cell_type": "code",
   "execution_count": 5,
   "metadata": {},
   "outputs": [],
   "source": [
    "data_train, data_test = train_test_split(data.drop(\"Sex\", axis=1), test_size=0.2, random_state=42)"
   ]
  },
  {
   "cell_type": "code",
   "execution_count": 6,
   "metadata": {},
   "outputs": [],
   "source": [
    "X_train, y_train = data_train.drop(\"Rings\", axis=1), data_train[\"Rings\"]\n",
    "X_test, y_test = data_test.drop(\"Rings\", axis=1), data_test[\"Rings\"]"
   ]
  },
  {
   "cell_type": "code",
   "execution_count": 7,
   "metadata": {},
   "outputs": [
    {
     "data": {
      "text/html": [
       "<style>#sk-container-id-1 {color: black;}#sk-container-id-1 pre{padding: 0;}#sk-container-id-1 div.sk-toggleable {background-color: white;}#sk-container-id-1 label.sk-toggleable__label {cursor: pointer;display: block;width: 100%;margin-bottom: 0;padding: 0.3em;box-sizing: border-box;text-align: center;}#sk-container-id-1 label.sk-toggleable__label-arrow:before {content: \"▸\";float: left;margin-right: 0.25em;color: #696969;}#sk-container-id-1 label.sk-toggleable__label-arrow:hover:before {color: black;}#sk-container-id-1 div.sk-estimator:hover label.sk-toggleable__label-arrow:before {color: black;}#sk-container-id-1 div.sk-toggleable__content {max-height: 0;max-width: 0;overflow: hidden;text-align: left;background-color: #f0f8ff;}#sk-container-id-1 div.sk-toggleable__content pre {margin: 0.2em;color: black;border-radius: 0.25em;background-color: #f0f8ff;}#sk-container-id-1 input.sk-toggleable__control:checked~div.sk-toggleable__content {max-height: 200px;max-width: 100%;overflow: auto;}#sk-container-id-1 input.sk-toggleable__control:checked~label.sk-toggleable__label-arrow:before {content: \"▾\";}#sk-container-id-1 div.sk-estimator input.sk-toggleable__control:checked~label.sk-toggleable__label {background-color: #d4ebff;}#sk-container-id-1 div.sk-label input.sk-toggleable__control:checked~label.sk-toggleable__label {background-color: #d4ebff;}#sk-container-id-1 input.sk-hidden--visually {border: 0;clip: rect(1px 1px 1px 1px);clip: rect(1px, 1px, 1px, 1px);height: 1px;margin: -1px;overflow: hidden;padding: 0;position: absolute;width: 1px;}#sk-container-id-1 div.sk-estimator {font-family: monospace;background-color: #f0f8ff;border: 1px dotted black;border-radius: 0.25em;box-sizing: border-box;margin-bottom: 0.5em;}#sk-container-id-1 div.sk-estimator:hover {background-color: #d4ebff;}#sk-container-id-1 div.sk-parallel-item::after {content: \"\";width: 100%;border-bottom: 1px solid gray;flex-grow: 1;}#sk-container-id-1 div.sk-label:hover label.sk-toggleable__label {background-color: #d4ebff;}#sk-container-id-1 div.sk-serial::before {content: \"\";position: absolute;border-left: 1px solid gray;box-sizing: border-box;top: 0;bottom: 0;left: 50%;z-index: 0;}#sk-container-id-1 div.sk-serial {display: flex;flex-direction: column;align-items: center;background-color: white;padding-right: 0.2em;padding-left: 0.2em;position: relative;}#sk-container-id-1 div.sk-item {position: relative;z-index: 1;}#sk-container-id-1 div.sk-parallel {display: flex;align-items: stretch;justify-content: center;background-color: white;position: relative;}#sk-container-id-1 div.sk-item::before, #sk-container-id-1 div.sk-parallel-item::before {content: \"\";position: absolute;border-left: 1px solid gray;box-sizing: border-box;top: 0;bottom: 0;left: 50%;z-index: -1;}#sk-container-id-1 div.sk-parallel-item {display: flex;flex-direction: column;z-index: 1;position: relative;background-color: white;}#sk-container-id-1 div.sk-parallel-item:first-child::after {align-self: flex-end;width: 50%;}#sk-container-id-1 div.sk-parallel-item:last-child::after {align-self: flex-start;width: 50%;}#sk-container-id-1 div.sk-parallel-item:only-child::after {width: 0;}#sk-container-id-1 div.sk-dashed-wrapped {border: 1px dashed gray;margin: 0 0.4em 0.5em 0.4em;box-sizing: border-box;padding-bottom: 0.4em;background-color: white;}#sk-container-id-1 div.sk-label label {font-family: monospace;font-weight: bold;display: inline-block;line-height: 1.2em;}#sk-container-id-1 div.sk-label-container {text-align: center;}#sk-container-id-1 div.sk-container {/* jupyter's `normalize.less` sets `[hidden] { display: none; }` but bootstrap.min.css set `[hidden] { display: none !important; }` so we also need the `!important` here to be able to override the default hidden behavior on the sphinx rendered scikit-learn.org. See: https://github.com/scikit-learn/scikit-learn/issues/21755 */display: inline-block !important;position: relative;}#sk-container-id-1 div.sk-text-repr-fallback {display: none;}</style><div id=\"sk-container-id-1\" class=\"sk-top-container\"><div class=\"sk-text-repr-fallback\"><pre>LinearRegression()</pre><b>In a Jupyter environment, please rerun this cell to show the HTML representation or trust the notebook. <br />On GitHub, the HTML representation is unable to render, please try loading this page with nbviewer.org.</b></div><div class=\"sk-container\" hidden><div class=\"sk-item\"><div class=\"sk-estimator sk-toggleable\"><input class=\"sk-toggleable__control sk-hidden--visually\" id=\"sk-estimator-id-1\" type=\"checkbox\" checked><label for=\"sk-estimator-id-1\" class=\"sk-toggleable__label sk-toggleable__label-arrow\">LinearRegression</label><div class=\"sk-toggleable__content\"><pre>LinearRegression()</pre></div></div></div></div></div>"
      ],
      "text/plain": [
       "LinearRegression()"
      ]
     },
     "execution_count": 7,
     "metadata": {},
     "output_type": "execute_result"
    }
   ],
   "source": [
    "model = LinearRegression()\n",
    "model.fit(X_train, y_train)"
   ]
  },
  {
   "cell_type": "code",
   "execution_count": 8,
   "metadata": {},
   "outputs": [],
   "source": [
    "predict = model.predict(X_test)"
   ]
  },
  {
   "cell_type": "code",
   "execution_count": 9,
   "metadata": {},
   "outputs": [
    {
     "name": "stdout",
     "output_type": "stream",
     "text": [
      "R-squared test: 0.5329844757724522\n",
      "RMSE test: 2.2484530558362525\n"
     ]
    }
   ],
   "source": [
    "# calculate r_squared and rmse\n",
    "r_squared = model.score(X_test, y_test)\n",
    "rmse = np.sqrt(np.mean((predict - y_test) ** 2))\n",
    "\n",
    "print(f\"R-squared test: {r_squared}\")\n",
    "print(f\"RMSE test: {rmse}\")"
   ]
  },
  {
   "cell_type": "code",
   "execution_count": 10,
   "metadata": {},
   "outputs": [],
   "source": [
    "predict_train = model.predict(X_train)"
   ]
  },
  {
   "cell_type": "code",
   "execution_count": 11,
   "metadata": {},
   "outputs": [
    {
     "name": "stdout",
     "output_type": "stream",
     "text": [
      "R-squared train: 0.5260176935365598\n",
      "RMSE train: 2.2078092227168797\n"
     ]
    }
   ],
   "source": [
    "# calculate r_squared and rmse for train\n",
    "r_squared = model.score(X_train, y_train)\n",
    "rmse = np.sqrt(np.mean((predict_train - y_train) ** 2))\n",
    "\n",
    "print(f\"R-squared train: {r_squared}\")\n",
    "print(f\"RMSE train: {rmse}\")"
   ]
  },
  {
   "cell_type": "markdown",
   "metadata": {},
   "source": [
    "### Fit model after removing correlated features"
   ]
  },
  {
   "cell_type": "markdown",
   "metadata": {},
   "source": [
    "#### Check Correlation"
   ]
  },
  {
   "cell_type": "code",
   "execution_count": 12,
   "metadata": {},
   "outputs": [],
   "source": []
  },
  {
   "cell_type": "code",
   "execution_count": 13,
   "metadata": {},
   "outputs": [
    {
     "data": {
      "text/html": [
       "<style type=\"text/css\">\n",
       "#T_746d6_row0_col0, #T_746d6_row1_col1, #T_746d6_row2_col2, #T_746d6_row3_col3, #T_746d6_row4_col4, #T_746d6_row5_col5, #T_746d6_row6_col6, #T_746d6_row7_col7 {\n",
       "  background-color: #b40426;\n",
       "  color: #f1f1f1;\n",
       "}\n",
       "#T_746d6_row0_col1, #T_746d6_row1_col0 {\n",
       "  background-color: #be242e;\n",
       "  color: #f1f1f1;\n",
       "}\n",
       "#T_746d6_row0_col2, #T_746d6_row2_col0, #T_746d6_row2_col4 {\n",
       "  background-color: #f3c8b2;\n",
       "  color: #000000;\n",
       "}\n",
       "#T_746d6_row0_col3, #T_746d6_row1_col3 {\n",
       "  background-color: #e67259;\n",
       "  color: #f1f1f1;\n",
       "}\n",
       "#T_746d6_row0_col4 {\n",
       "  background-color: #e97a5f;\n",
       "  color: #f1f1f1;\n",
       "}\n",
       "#T_746d6_row0_col5 {\n",
       "  background-color: #ed8366;\n",
       "  color: #f1f1f1;\n",
       "}\n",
       "#T_746d6_row0_col6 {\n",
       "  background-color: #f6a385;\n",
       "  color: #000000;\n",
       "}\n",
       "#T_746d6_row0_col7, #T_746d6_row2_col7 {\n",
       "  background-color: #88abfd;\n",
       "  color: #000000;\n",
       "}\n",
       "#T_746d6_row1_col2 {\n",
       "  background-color: #f4c5ad;\n",
       "  color: #000000;\n",
       "}\n",
       "#T_746d6_row1_col4, #T_746d6_row6_col5 {\n",
       "  background-color: #eb7d62;\n",
       "  color: #f1f1f1;\n",
       "}\n",
       "#T_746d6_row1_col5, #T_746d6_row6_col4 {\n",
       "  background-color: #ee8468;\n",
       "  color: #f1f1f1;\n",
       "}\n",
       "#T_746d6_row1_col6 {\n",
       "  background-color: #f59c7d;\n",
       "  color: #000000;\n",
       "}\n",
       "#T_746d6_row1_col7 {\n",
       "  background-color: #92b4fe;\n",
       "  color: #000000;\n",
       "}\n",
       "#T_746d6_row2_col1, #T_746d6_row2_col3 {\n",
       "  background-color: #f2c9b4;\n",
       "  color: #000000;\n",
       "}\n",
       "#T_746d6_row2_col5, #T_746d6_row3_col2 {\n",
       "  background-color: #f1cdba;\n",
       "  color: #000000;\n",
       "}\n",
       "#T_746d6_row2_col6 {\n",
       "  background-color: #dfdbd9;\n",
       "  color: #000000;\n",
       "}\n",
       "#T_746d6_row3_col0 {\n",
       "  background-color: #e8765c;\n",
       "  color: #f1f1f1;\n",
       "}\n",
       "#T_746d6_row3_col1 {\n",
       "  background-color: #e9785d;\n",
       "  color: #f1f1f1;\n",
       "}\n",
       "#T_746d6_row3_col4 {\n",
       "  background-color: #c73635;\n",
       "  color: #f1f1f1;\n",
       "}\n",
       "#T_746d6_row3_col5, #T_746d6_row4_col3 {\n",
       "  background-color: #cc403a;\n",
       "  color: #f1f1f1;\n",
       "}\n",
       "#T_746d6_row3_col6, #T_746d6_row5_col4 {\n",
       "  background-color: #dc5d4a;\n",
       "  color: #f1f1f1;\n",
       "}\n",
       "#T_746d6_row3_col7 {\n",
       "  background-color: #7da0f9;\n",
       "  color: #f1f1f1;\n",
       "}\n",
       "#T_746d6_row4_col0 {\n",
       "  background-color: #f29072;\n",
       "  color: #f1f1f1;\n",
       "}\n",
       "#T_746d6_row4_col1 {\n",
       "  background-color: #f49a7b;\n",
       "  color: #000000;\n",
       "}\n",
       "#T_746d6_row4_col2 {\n",
       "  background-color: #dadce0;\n",
       "  color: #000000;\n",
       "}\n",
       "#T_746d6_row4_col5 {\n",
       "  background-color: #e16751;\n",
       "  color: #f1f1f1;\n",
       "}\n",
       "#T_746d6_row4_col6 {\n",
       "  background-color: #f7b194;\n",
       "  color: #000000;\n",
       "}\n",
       "#T_746d6_row4_col7, #T_746d6_row7_col0, #T_746d6_row7_col1, #T_746d6_row7_col2, #T_746d6_row7_col3, #T_746d6_row7_col4, #T_746d6_row7_col5, #T_746d6_row7_col6 {\n",
       "  background-color: #3b4cc0;\n",
       "  color: #f1f1f1;\n",
       "}\n",
       "#T_746d6_row5_col0, #T_746d6_row6_col1 {\n",
       "  background-color: #f18d6f;\n",
       "  color: #f1f1f1;\n",
       "}\n",
       "#T_746d6_row5_col1 {\n",
       "  background-color: #f39475;\n",
       "  color: #000000;\n",
       "}\n",
       "#T_746d6_row5_col2 {\n",
       "  background-color: #e8d6cc;\n",
       "  color: #000000;\n",
       "}\n",
       "#T_746d6_row5_col3 {\n",
       "  background-color: #cd423b;\n",
       "  color: #f1f1f1;\n",
       "}\n",
       "#T_746d6_row5_col6 {\n",
       "  background-color: #f4987a;\n",
       "  color: #000000;\n",
       "}\n",
       "#T_746d6_row5_col7 {\n",
       "  background-color: #6788ee;\n",
       "  color: #f1f1f1;\n",
       "}\n",
       "#T_746d6_row6_col0 {\n",
       "  background-color: #f29274;\n",
       "  color: #f1f1f1;\n",
       "}\n",
       "#T_746d6_row6_col2 {\n",
       "  background-color: #f0cdbb;\n",
       "  color: #000000;\n",
       "}\n",
       "#T_746d6_row6_col3 {\n",
       "  background-color: #d55042;\n",
       "  color: #f1f1f1;\n",
       "}\n",
       "#T_746d6_row6_col7 {\n",
       "  background-color: #b2ccfb;\n",
       "  color: #000000;\n",
       "}\n",
       "</style>\n",
       "<table id=\"T_746d6\">\n",
       "  <thead>\n",
       "    <tr>\n",
       "      <th class=\"blank level0\" >&nbsp;</th>\n",
       "      <th id=\"T_746d6_level0_col0\" class=\"col_heading level0 col0\" >Length</th>\n",
       "      <th id=\"T_746d6_level0_col1\" class=\"col_heading level0 col1\" >Diam</th>\n",
       "      <th id=\"T_746d6_level0_col2\" class=\"col_heading level0 col2\" >Height</th>\n",
       "      <th id=\"T_746d6_level0_col3\" class=\"col_heading level0 col3\" >Whole</th>\n",
       "      <th id=\"T_746d6_level0_col4\" class=\"col_heading level0 col4\" >Shucked</th>\n",
       "      <th id=\"T_746d6_level0_col5\" class=\"col_heading level0 col5\" >Viscera</th>\n",
       "      <th id=\"T_746d6_level0_col6\" class=\"col_heading level0 col6\" >Shell</th>\n",
       "      <th id=\"T_746d6_level0_col7\" class=\"col_heading level0 col7\" >Rings</th>\n",
       "    </tr>\n",
       "  </thead>\n",
       "  <tbody>\n",
       "    <tr>\n",
       "      <th id=\"T_746d6_level0_row0\" class=\"row_heading level0 row0\" >Length</th>\n",
       "      <td id=\"T_746d6_row0_col0\" class=\"data row0 col0\" >1.000000</td>\n",
       "      <td id=\"T_746d6_row0_col1\" class=\"data row0 col1\" >0.986812</td>\n",
       "      <td id=\"T_746d6_row0_col2\" class=\"data row0 col2\" >0.827554</td>\n",
       "      <td id=\"T_746d6_row0_col3\" class=\"data row0 col3\" >0.925261</td>\n",
       "      <td id=\"T_746d6_row0_col4\" class=\"data row0 col4\" >0.897914</td>\n",
       "      <td id=\"T_746d6_row0_col5\" class=\"data row0 col5\" >0.903018</td>\n",
       "      <td id=\"T_746d6_row0_col6\" class=\"data row0 col6\" >0.897706</td>\n",
       "      <td id=\"T_746d6_row0_col7\" class=\"data row0 col7\" >0.556720</td>\n",
       "    </tr>\n",
       "    <tr>\n",
       "      <th id=\"T_746d6_level0_row1\" class=\"row_heading level0 row1\" >Diam</th>\n",
       "      <td id=\"T_746d6_row1_col0\" class=\"data row1 col0\" >0.986812</td>\n",
       "      <td id=\"T_746d6_row1_col1\" class=\"data row1 col1\" >1.000000</td>\n",
       "      <td id=\"T_746d6_row1_col2\" class=\"data row1 col2\" >0.833684</td>\n",
       "      <td id=\"T_746d6_row1_col3\" class=\"data row1 col3\" >0.925452</td>\n",
       "      <td id=\"T_746d6_row1_col4\" class=\"data row1 col4\" >0.893162</td>\n",
       "      <td id=\"T_746d6_row1_col5\" class=\"data row1 col5\" >0.899724</td>\n",
       "      <td id=\"T_746d6_row1_col6\" class=\"data row1 col6\" >0.905330</td>\n",
       "      <td id=\"T_746d6_row1_col7\" class=\"data row1 col7\" >0.574660</td>\n",
       "    </tr>\n",
       "    <tr>\n",
       "      <th id=\"T_746d6_level0_row2\" class=\"row_heading level0 row2\" >Height</th>\n",
       "      <td id=\"T_746d6_row2_col0\" class=\"data row2 col0\" >0.827554</td>\n",
       "      <td id=\"T_746d6_row2_col1\" class=\"data row2 col1\" >0.833684</td>\n",
       "      <td id=\"T_746d6_row2_col2\" class=\"data row2 col2\" >1.000000</td>\n",
       "      <td id=\"T_746d6_row2_col3\" class=\"data row2 col3\" >0.819221</td>\n",
       "      <td id=\"T_746d6_row2_col4\" class=\"data row2 col4\" >0.774972</td>\n",
       "      <td id=\"T_746d6_row2_col5\" class=\"data row2 col5\" >0.798319</td>\n",
       "      <td id=\"T_746d6_row2_col6\" class=\"data row2 col6\" >0.817338</td>\n",
       "      <td id=\"T_746d6_row2_col7\" class=\"data row2 col7\" >0.557467</td>\n",
       "    </tr>\n",
       "    <tr>\n",
       "      <th id=\"T_746d6_level0_row3\" class=\"row_heading level0 row3\" >Whole</th>\n",
       "      <td id=\"T_746d6_row3_col0\" class=\"data row3 col0\" >0.925261</td>\n",
       "      <td id=\"T_746d6_row3_col1\" class=\"data row3 col1\" >0.925452</td>\n",
       "      <td id=\"T_746d6_row3_col2\" class=\"data row3 col2\" >0.819221</td>\n",
       "      <td id=\"T_746d6_row3_col3\" class=\"data row3 col3\" >1.000000</td>\n",
       "      <td id=\"T_746d6_row3_col4\" class=\"data row3 col4\" >0.969405</td>\n",
       "      <td id=\"T_746d6_row3_col5\" class=\"data row3 col5\" >0.966375</td>\n",
       "      <td id=\"T_746d6_row3_col6\" class=\"data row3 col6\" >0.955355</td>\n",
       "      <td id=\"T_746d6_row3_col7\" class=\"data row3 col7\" >0.540390</td>\n",
       "    </tr>\n",
       "    <tr>\n",
       "      <th id=\"T_746d6_level0_row4\" class=\"row_heading level0 row4\" >Shucked</th>\n",
       "      <td id=\"T_746d6_row4_col0\" class=\"data row4 col0\" >0.897914</td>\n",
       "      <td id=\"T_746d6_row4_col1\" class=\"data row4 col1\" >0.893162</td>\n",
       "      <td id=\"T_746d6_row4_col2\" class=\"data row4 col2\" >0.774972</td>\n",
       "      <td id=\"T_746d6_row4_col3\" class=\"data row4 col3\" >0.969405</td>\n",
       "      <td id=\"T_746d6_row4_col4\" class=\"data row4 col4\" >1.000000</td>\n",
       "      <td id=\"T_746d6_row4_col5\" class=\"data row4 col5\" >0.931961</td>\n",
       "      <td id=\"T_746d6_row4_col6\" class=\"data row4 col6\" >0.882617</td>\n",
       "      <td id=\"T_746d6_row4_col7\" class=\"data row4 col7\" >0.420884</td>\n",
       "    </tr>\n",
       "    <tr>\n",
       "      <th id=\"T_746d6_level0_row5\" class=\"row_heading level0 row5\" >Viscera</th>\n",
       "      <td id=\"T_746d6_row5_col0\" class=\"data row5 col0\" >0.903018</td>\n",
       "      <td id=\"T_746d6_row5_col1\" class=\"data row5 col1\" >0.899724</td>\n",
       "      <td id=\"T_746d6_row5_col2\" class=\"data row5 col2\" >0.798319</td>\n",
       "      <td id=\"T_746d6_row5_col3\" class=\"data row5 col3\" >0.966375</td>\n",
       "      <td id=\"T_746d6_row5_col4\" class=\"data row5 col4\" >0.931961</td>\n",
       "      <td id=\"T_746d6_row5_col5\" class=\"data row5 col5\" >1.000000</td>\n",
       "      <td id=\"T_746d6_row5_col6\" class=\"data row5 col6\" >0.907656</td>\n",
       "      <td id=\"T_746d6_row5_col7\" class=\"data row5 col7\" >0.503819</td>\n",
       "    </tr>\n",
       "    <tr>\n",
       "      <th id=\"T_746d6_level0_row6\" class=\"row_heading level0 row6\" >Shell</th>\n",
       "      <td id=\"T_746d6_row6_col0\" class=\"data row6 col0\" >0.897706</td>\n",
       "      <td id=\"T_746d6_row6_col1\" class=\"data row6 col1\" >0.905330</td>\n",
       "      <td id=\"T_746d6_row6_col2\" class=\"data row6 col2\" >0.817338</td>\n",
       "      <td id=\"T_746d6_row6_col3\" class=\"data row6 col3\" >0.955355</td>\n",
       "      <td id=\"T_746d6_row6_col4\" class=\"data row6 col4\" >0.882617</td>\n",
       "      <td id=\"T_746d6_row6_col5\" class=\"data row6 col5\" >0.907656</td>\n",
       "      <td id=\"T_746d6_row6_col6\" class=\"data row6 col6\" >1.000000</td>\n",
       "      <td id=\"T_746d6_row6_col7\" class=\"data row6 col7\" >0.627574</td>\n",
       "    </tr>\n",
       "    <tr>\n",
       "      <th id=\"T_746d6_level0_row7\" class=\"row_heading level0 row7\" >Rings</th>\n",
       "      <td id=\"T_746d6_row7_col0\" class=\"data row7 col0\" >0.556720</td>\n",
       "      <td id=\"T_746d6_row7_col1\" class=\"data row7 col1\" >0.574660</td>\n",
       "      <td id=\"T_746d6_row7_col2\" class=\"data row7 col2\" >0.557467</td>\n",
       "      <td id=\"T_746d6_row7_col3\" class=\"data row7 col3\" >0.540390</td>\n",
       "      <td id=\"T_746d6_row7_col4\" class=\"data row7 col4\" >0.420884</td>\n",
       "      <td id=\"T_746d6_row7_col5\" class=\"data row7 col5\" >0.503819</td>\n",
       "      <td id=\"T_746d6_row7_col6\" class=\"data row7 col6\" >0.627574</td>\n",
       "      <td id=\"T_746d6_row7_col7\" class=\"data row7 col7\" >1.000000</td>\n",
       "    </tr>\n",
       "  </tbody>\n",
       "</table>\n"
      ],
      "text/plain": [
       "<pandas.io.formats.style.Styler at 0x7fa37599dbd0>"
      ]
     },
     "execution_count": 13,
     "metadata": {},
     "output_type": "execute_result"
    }
   ],
   "source": [
    "data.drop([\"Sex\"], axis=1).corr().style.background_gradient(cmap='coolwarm')"
   ]
  },
  {
   "cell_type": "code",
   "execution_count": 14,
   "metadata": {},
   "outputs": [
    {
     "data": {
      "image/png": "[encoded data removed]",
      "text/plain": [
       "<Figure size 1500x1200 with 4 Axes>"
      ]
     },
     "metadata": {},
     "output_type": "display_data"
    }
   ],
   "source": [
    "correlation = X_train.corr()\n",
    "sns.clustermap(correlation, method=\"complete\", cmap='RdBu', annot=True, \n",
    "               annot_kws={\"size\": 7}, vmin=-1, vmax=1, figsize=(15,12));"
   ]
  },
  {
   "cell_type": "markdown",
   "metadata": {},
   "source": [
    "Se puden obserar cuatro grupos de variables correlacionadas con un umbral de 0.5"
   ]
  },
  {
   "cell_type": "markdown",
   "metadata": {},
   "source": [
    "#### Seleccionar variables"
   ]
  },
  {
   "cell_type": "code",
   "execution_count": 57,
   "metadata": {},
   "outputs": [],
   "source": [
    "def selection_by_corr(dataset, threshold):\n",
    "    corr_ = (dataset.corr() * -(np.identity(dataset.shape[1]) - 1)).abs()\n",
    "    while corr_.max().max() > threshold:\n",
    "        args = np.unravel_index(corr_.to_numpy().argmax(), corr_.shape)\n",
    "        if corr_.iloc[args[0], :].mean() > corr_.iloc[:, args[1]].mean():\n",
    "            name_drop = corr_.iloc[args[0], :].name\n",
    "            corr_.drop(name_drop, axis=1, inplace=True)\n",
    "            corr_.drop(name_drop, axis=0, inplace=True)\n",
    "        else:\n",
    "            name_drop = corr_.iloc[:, args[1]].name\n",
    "            corr_.drop(name_drop, axis=1, inplace=True)\n",
    "            corr_.drop(name_drop, axis=0, inplace=True)\n",
    "    return corr_.columns.values"
   ]
  },
  {
   "cell_type": "code",
   "execution_count": 69,
   "metadata": {},
   "outputs": [
    {
     "data": {
      "text/plain": [
       "array(['Height', 'Shucked', 'Shell'], dtype=object)"
      ]
     },
     "execution_count": 69,
     "metadata": {},
     "output_type": "execute_result"
    }
   ],
   "source": [
    "select_col = selection_by_corr(X_train, 0.9)\n",
    "select_col"
   ]
  },
  {
   "cell_type": "markdown",
   "metadata": {},
   "source": [
    "### Fit model with selected columns"
   ]
  },
  {
   "cell_type": "code",
   "execution_count": 63,
   "metadata": {},
   "outputs": [],
   "source": [
    "X_train_select = X_train[select_col]\n",
    "X_test_select = X_test[select_col]"
   ]
  },
  {
   "cell_type": "code",
   "execution_count": 64,
   "metadata": {},
   "outputs": [
    {
     "data": {
      "text/html": [
       "<style>#sk-container-id-2 {color: black;}#sk-container-id-2 pre{padding: 0;}#sk-container-id-2 div.sk-toggleable {background-color: white;}#sk-container-id-2 label.sk-toggleable__label {cursor: pointer;display: block;width: 100%;margin-bottom: 0;padding: 0.3em;box-sizing: border-box;text-align: center;}#sk-container-id-2 label.sk-toggleable__label-arrow:before {content: \"▸\";float: left;margin-right: 0.25em;color: #696969;}#sk-container-id-2 label.sk-toggleable__label-arrow:hover:before {color: black;}#sk-container-id-2 div.sk-estimator:hover label.sk-toggleable__label-arrow:before {color: black;}#sk-container-id-2 div.sk-toggleable__content {max-height: 0;max-width: 0;overflow: hidden;text-align: left;background-color: #f0f8ff;}#sk-container-id-2 div.sk-toggleable__content pre {margin: 0.2em;color: black;border-radius: 0.25em;background-color: #f0f8ff;}#sk-container-id-2 input.sk-toggleable__control:checked~div.sk-toggleable__content {max-height: 200px;max-width: 100%;overflow: auto;}#sk-container-id-2 input.sk-toggleable__control:checked~label.sk-toggleable__label-arrow:before {content: \"▾\";}#sk-container-id-2 div.sk-estimator input.sk-toggleable__control:checked~label.sk-toggleable__label {background-color: #d4ebff;}#sk-container-id-2 div.sk-label input.sk-toggleable__control:checked~label.sk-toggleable__label {background-color: #d4ebff;}#sk-container-id-2 input.sk-hidden--visually {border: 0;clip: rect(1px 1px 1px 1px);clip: rect(1px, 1px, 1px, 1px);height: 1px;margin: -1px;overflow: hidden;padding: 0;position: absolute;width: 1px;}#sk-container-id-2 div.sk-estimator {font-family: monospace;background-color: #f0f8ff;border: 1px dotted black;border-radius: 0.25em;box-sizing: border-box;margin-bottom: 0.5em;}#sk-container-id-2 div.sk-estimator:hover {background-color: #d4ebff;}#sk-container-id-2 div.sk-parallel-item::after {content: \"\";width: 100%;border-bottom: 1px solid gray;flex-grow: 1;}#sk-container-id-2 div.sk-label:hover label.sk-toggleable__label {background-color: #d4ebff;}#sk-container-id-2 div.sk-serial::before {content: \"\";position: absolute;border-left: 1px solid gray;box-sizing: border-box;top: 0;bottom: 0;left: 50%;z-index: 0;}#sk-container-id-2 div.sk-serial {display: flex;flex-direction: column;align-items: center;background-color: white;padding-right: 0.2em;padding-left: 0.2em;position: relative;}#sk-container-id-2 div.sk-item {position: relative;z-index: 1;}#sk-container-id-2 div.sk-parallel {display: flex;align-items: stretch;justify-content: center;background-color: white;position: relative;}#sk-container-id-2 div.sk-item::before, #sk-container-id-2 div.sk-parallel-item::before {content: \"\";position: absolute;border-left: 1px solid gray;box-sizing: border-box;top: 0;bottom: 0;left: 50%;z-index: -1;}#sk-container-id-2 div.sk-parallel-item {display: flex;flex-direction: column;z-index: 1;position: relative;background-color: white;}#sk-container-id-2 div.sk-parallel-item:first-child::after {align-self: flex-end;width: 50%;}#sk-container-id-2 div.sk-parallel-item:last-child::after {align-self: flex-start;width: 50%;}#sk-container-id-2 div.sk-parallel-item:only-child::after {width: 0;}#sk-container-id-2 div.sk-dashed-wrapped {border: 1px dashed gray;margin: 0 0.4em 0.5em 0.4em;box-sizing: border-box;padding-bottom: 0.4em;background-color: white;}#sk-container-id-2 div.sk-label label {font-family: monospace;font-weight: bold;display: inline-block;line-height: 1.2em;}#sk-container-id-2 div.sk-label-container {text-align: center;}#sk-container-id-2 div.sk-container {/* jupyter's `normalize.less` sets `[hidden] { display: none; }` but bootstrap.min.css set `[hidden] { display: none !important; }` so we also need the `!important` here to be able to override the default hidden behavior on the sphinx rendered scikit-learn.org. See: https://github.com/scikit-learn/scikit-learn/issues/21755 */display: inline-block !important;position: relative;}#sk-container-id-2 div.sk-text-repr-fallback {display: none;}</style><div id=\"sk-container-id-2\" class=\"sk-top-container\"><div class=\"sk-text-repr-fallback\"><pre>LinearRegression()</pre><b>In a Jupyter environment, please rerun this cell to show the HTML representation or trust the notebook. <br />On GitHub, the HTML representation is unable to render, please try loading this page with nbviewer.org.</b></div><div class=\"sk-container\" hidden><div class=\"sk-item\"><div class=\"sk-estimator sk-toggleable\"><input class=\"sk-toggleable__control sk-hidden--visually\" id=\"sk-estimator-id-2\" type=\"checkbox\" checked><label for=\"sk-estimator-id-2\" class=\"sk-toggleable__label sk-toggleable__label-arrow\">LinearRegression</label><div class=\"sk-toggleable__content\"><pre>LinearRegression()</pre></div></div></div></div></div>"
      ],
      "text/plain": [
       "LinearRegression()"
      ]
     },
     "execution_count": 64,
     "metadata": {},
     "output_type": "execute_result"
    }
   ],
   "source": [
    "model = LinearRegression()\n",
    "model.fit(X_train_select, y_train)"
   ]
  },
  {
   "cell_type": "code",
   "execution_count": 65,
   "metadata": {},
   "outputs": [],
   "source": [
    "predict = model.predict(X_test_select)"
   ]
  },
  {
   "cell_type": "code",
   "execution_count": 66,
   "metadata": {},
   "outputs": [
    {
     "name": "stdout",
     "output_type": "stream",
     "text": [
      "R-squared test: 0.49185657736622557\n",
      "RMSE test: 2.345369754064194\n"
     ]
    }
   ],
   "source": [
    "# calculate r_squared and rmse\n",
    "r_squared = model.score(X_test_select, y_test)\n",
    "rmse = np.sqrt(np.mean((predict - y_test) ** 2))\n",
    "\n",
    "print(f\"R-squared test: {r_squared}\")\n",
    "print(f\"RMSE test: {rmse}\")"
   ]
  },
  {
   "cell_type": "code",
   "execution_count": 67,
   "metadata": {},
   "outputs": [],
   "source": [
    "predict_train = model.predict(X_train_select)"
   ]
  },
  {
   "cell_type": "code",
   "execution_count": 68,
   "metadata": {},
   "outputs": [
    {
     "name": "stdout",
     "output_type": "stream",
     "text": [
      "R-squared train: 0.49235393043990694\n",
      "RMSE train: 2.284867352283487\n"
     ]
    }
   ],
   "source": [
    "# calculate r_squared and rmse for train\n",
    "r_squared = model.score(X_train_select, y_train)\n",
    "rmse = np.sqrt(np.mean((predict_train - y_train) ** 2))\n",
    "\n",
    "print(f\"R-squared train: {r_squared}\")\n",
    "print(f\"RMSE train: {rmse}\")"
   ]
  },
  {
   "cell_type": "markdown",
   "metadata": {},
   "source": [
    "### PCA"
   ]
  },
  {
   "cell_type": "markdown",
   "metadata": {},
   "source": [
    "- Se crearan nuevas variables a partir de las variables originales, estas nuevas variables seran las variables originales.\n",
    "- Se seleccionaran variables en base al grado de varianza."
   ]
  },
  {
   "cell_type": "markdown",
   "metadata": {},
   "source": [
    "#### Compute PCA"
   ]
  },
  {
   "cell_type": "code",
   "execution_count": 78,
   "metadata": {},
   "outputs": [
    {
     "data": {
      "image/png": "[encoded data removed]",
      "text/plain": [
       "<Figure size 1000x600 with 1 Axes>"
      ]
     },
     "metadata": {},
     "output_type": "display_data"
    }
   ],
   "source": [
    "# plot the variance explained for each principal component\n",
    "pca = PCA().fit(X_train)\n",
    "\n",
    "plt.figure(figsize=(10, 6))\n",
    "plt.plot(np.cumsum(pca.explained_variance_ratio_), 'o-')\n",
    "plt.xlabel('number of components')\n",
    "plt.ylabel('cumulative explained variance');\n",
    "\n",
    "# En base a la gráfica anterior, se seleccionan 3 componente principal"
   ]
  },
  {
   "cell_type": "markdown",
   "metadata": {},
   "source": [
    "#### Seleccion de variables"
   ]
  },
  {
   "cell_type": "code",
   "execution_count": 84,
   "metadata": {},
   "outputs": [],
   "source": [
    "pca = PCA(n_components=3)\n",
    "pca.fit(X_train)\n",
    "\n",
    "X_train_pca = pca.transform(X_train)\n",
    "X_test_pca = pca.transform(X_test)"
   ]
  },
  {
   "cell_type": "markdown",
   "metadata": {},
   "source": [
    "#### Graficar"
   ]
  },
  {
   "cell_type": "code",
   "execution_count": 88,
   "metadata": {},
   "outputs": [
    {
     "data": {
      "text/plain": [
       "Text(0, 0.5, 'Rings')"
      ]
     },
     "execution_count": 88,
     "metadata": {},
     "output_type": "execute_result"
    },
    {
     "data": {
      "image/png": "[encoded data removed]",
      "text/plain": [
       "<Figure size 640x480 with 4 Axes>"
      ]
     },
     "metadata": {},
     "output_type": "display_data"
    }
   ],
   "source": [
    "# Graficar las primeras 3 componentes principales\n",
    "# contra la variable objetivo\n",
    "fig = plt.subplots(2, 2)\n",
    "plt.subplot(2, 2, 1)\n",
    "plt.scatter(X_train_pca[:, 0], y_train)\n",
    "plt.xlabel('PC1')\n",
    "plt.ylabel('Rings')\n",
    "plt.subplot(2, 2, 2)\n",
    "plt.scatter(X_train_pca[:, 1], y_train)\n",
    "plt.xlabel('PC2')\n",
    "plt.ylabel('Rings')\n",
    "plt.subplot(2, 2, 3)\n",
    "plt.scatter(X_train_pca[:, 2], y_train)\n",
    "plt.xlabel('PC3')\n",
    "plt.ylabel('Rings')"
   ]
  },
  {
   "cell_type": "markdown",
   "metadata": {},
   "source": [
    "#### Fit a model using the principal components"
   ]
  },
  {
   "cell_type": "code",
   "execution_count": 89,
   "metadata": {},
   "outputs": [],
   "source": [
    "pca = PCA(n_components=2)\n",
    "pca.fit(X_train)\n",
    "\n",
    "X_train_pca = pca.transform(X_train)\n",
    "X_test_pca = pca.transform(X_test)"
   ]
  },
  {
   "cell_type": "code",
   "execution_count": 90,
   "metadata": {},
   "outputs": [
    {
     "data": {
      "text/html": [
       "<style>#sk-container-id-5 {color: black;}#sk-container-id-5 pre{padding: 0;}#sk-container-id-5 div.sk-toggleable {background-color: white;}#sk-container-id-5 label.sk-toggleable__label {cursor: pointer;display: block;width: 100%;margin-bottom: 0;padding: 0.3em;box-sizing: border-box;text-align: center;}#sk-container-id-5 label.sk-toggleable__label-arrow:before {content: \"▸\";float: left;margin-right: 0.25em;color: #696969;}#sk-container-id-5 label.sk-toggleable__label-arrow:hover:before {color: black;}#sk-container-id-5 div.sk-estimator:hover label.sk-toggleable__label-arrow:before {color: black;}#sk-container-id-5 div.sk-toggleable__content {max-height: 0;max-width: 0;overflow: hidden;text-align: left;background-color: #f0f8ff;}#sk-container-id-5 div.sk-toggleable__content pre {margin: 0.2em;color: black;border-radius: 0.25em;background-color: #f0f8ff;}#sk-container-id-5 input.sk-toggleable__control:checked~div.sk-toggleable__content {max-height: 200px;max-width: 100%;overflow: auto;}#sk-container-id-5 input.sk-toggleable__control:checked~label.sk-toggleable__label-arrow:before {content: \"▾\";}#sk-container-id-5 div.sk-estimator input.sk-toggleable__control:checked~label.sk-toggleable__label {background-color: #d4ebff;}#sk-container-id-5 div.sk-label input.sk-toggleable__control:checked~label.sk-toggleable__label {background-color: #d4ebff;}#sk-container-id-5 input.sk-hidden--visually {border: 0;clip: rect(1px 1px 1px 1px);clip: rect(1px, 1px, 1px, 1px);height: 1px;margin: -1px;overflow: hidden;padding: 0;position: absolute;width: 1px;}#sk-container-id-5 div.sk-estimator {font-family: monospace;background-color: #f0f8ff;border: 1px dotted black;border-radius: 0.25em;box-sizing: border-box;margin-bottom: 0.5em;}#sk-container-id-5 div.sk-estimator:hover {background-color: #d4ebff;}#sk-container-id-5 div.sk-parallel-item::after {content: \"\";width: 100%;border-bottom: 1px solid gray;flex-grow: 1;}#sk-container-id-5 div.sk-label:hover label.sk-toggleable__label {background-color: #d4ebff;}#sk-container-id-5 div.sk-serial::before {content: \"\";position: absolute;border-left: 1px solid gray;box-sizing: border-box;top: 0;bottom: 0;left: 50%;z-index: 0;}#sk-container-id-5 div.sk-serial {display: flex;flex-direction: column;align-items: center;background-color: white;padding-right: 0.2em;padding-left: 0.2em;position: relative;}#sk-container-id-5 div.sk-item {position: relative;z-index: 1;}#sk-container-id-5 div.sk-parallel {display: flex;align-items: stretch;justify-content: center;background-color: white;position: relative;}#sk-container-id-5 div.sk-item::before, #sk-container-id-5 div.sk-parallel-item::before {content: \"\";position: absolute;border-left: 1px solid gray;box-sizing: border-box;top: 0;bottom: 0;left: 50%;z-index: -1;}#sk-container-id-5 div.sk-parallel-item {display: flex;flex-direction: column;z-index: 1;position: relative;background-color: white;}#sk-container-id-5 div.sk-parallel-item:first-child::after {align-self: flex-end;width: 50%;}#sk-container-id-5 div.sk-parallel-item:last-child::after {align-self: flex-start;width: 50%;}#sk-container-id-5 div.sk-parallel-item:only-child::after {width: 0;}#sk-container-id-5 div.sk-dashed-wrapped {border: 1px dashed gray;margin: 0 0.4em 0.5em 0.4em;box-sizing: border-box;padding-bottom: 0.4em;background-color: white;}#sk-container-id-5 div.sk-label label {font-family: monospace;font-weight: bold;display: inline-block;line-height: 1.2em;}#sk-container-id-5 div.sk-label-container {text-align: center;}#sk-container-id-5 div.sk-container {/* jupyter's `normalize.less` sets `[hidden] { display: none; }` but bootstrap.min.css set `[hidden] { display: none !important; }` so we also need the `!important` here to be able to override the default hidden behavior on the sphinx rendered scikit-learn.org. See: https://github.com/scikit-learn/scikit-learn/issues/21755 */display: inline-block !important;position: relative;}#sk-container-id-5 div.sk-text-repr-fallback {display: none;}</style><div id=\"sk-container-id-5\" class=\"sk-top-container\"><div class=\"sk-text-repr-fallback\"><pre>LinearRegression()</pre><b>In a Jupyter environment, please rerun this cell to show the HTML representation or trust the notebook. <br />On GitHub, the HTML representation is unable to render, please try loading this page with nbviewer.org.</b></div><div class=\"sk-container\" hidden><div class=\"sk-item\"><div class=\"sk-estimator sk-toggleable\"><input class=\"sk-toggleable__control sk-hidden--visually\" id=\"sk-estimator-id-5\" type=\"checkbox\" checked><label for=\"sk-estimator-id-5\" class=\"sk-toggleable__label sk-toggleable__label-arrow\">LinearRegression</label><div class=\"sk-toggleable__content\"><pre>LinearRegression()</pre></div></div></div></div></div>"
      ],
      "text/plain": [
       "LinearRegression()"
      ]
     },
     "execution_count": 90,
     "metadata": {},
     "output_type": "execute_result"
    }
   ],
   "source": [
    "model = LinearRegression()\n",
    "model.fit(X_train_pca, y_train)"
   ]
  },
  {
   "cell_type": "code",
   "execution_count": 91,
   "metadata": {},
   "outputs": [],
   "source": [
    "predict = model.predict(X_test_pca)"
   ]
  },
  {
   "cell_type": "code",
   "execution_count": 92,
   "metadata": {},
   "outputs": [
    {
     "name": "stdout",
     "output_type": "stream",
     "text": [
      "R-squared test: 0.5095778895187072\n",
      "RMSE test: 2.3041098838696112\n"
     ]
    }
   ],
   "source": [
    "# calculate r_squared and rmse\n",
    "r_squared = model.score(X_test_pca, y_test)\n",
    "rmse = np.sqrt(np.mean((predict - y_test) ** 2))\n",
    "\n",
    "print(f\"R-squared test: {r_squared}\")\n",
    "print(f\"RMSE test: {rmse}\")"
   ]
  },
  {
   "cell_type": "code",
   "execution_count": 93,
   "metadata": {},
   "outputs": [
    {
     "name": "stdout",
     "output_type": "stream",
     "text": [
      "R-squared train: 0.5093811506380302\n",
      "RMSE train: 2.2462215681426794\n"
     ]
    }
   ],
   "source": [
    "# calculate r_squared and rmse for train\n",
    "predict_train = model.predict(X_train_pca)\n",
    "r_squared = model.score(X_train_pca, y_train)\n",
    "rmse = np.sqrt(np.mean((predict_train - y_train) ** 2))\n",
    "\n",
    "print(f\"R-squared train: {r_squared}\")\n",
    "print(f\"RMSE train: {rmse}\")"
   ]
  },
  {
   "cell_type": "markdown",
   "metadata": {},
   "source": [
    "### PLS"
   ]
  },
  {
   "cell_type": "markdown",
   "metadata": {},
   "source": [
    "- Se crearan nuevas variables independientes y dependiente en base a la transformación de las variables originales.\n",
    "- Se seleccionan las variables independiente hasta que las metricas decrementen."
   ]
  },
  {
   "cell_type": "code",
   "execution_count": 101,
   "metadata": {},
   "outputs": [
    {
     "data": {
      "text/plain": [
       "(836,)"
      ]
     },
     "execution_count": 101,
     "metadata": {},
     "output_type": "execute_result"
    }
   ],
   "source": [
    "y_test.shape"
   ]
  },
  {
   "cell_type": "code",
   "execution_count": 102,
   "metadata": {},
   "outputs": [
    {
     "name": "stdout",
     "output_type": "stream",
     "text": [
      "R-squared test: 0.49488915798823385\n",
      "RMSE test: 2.338360742286316\n"
     ]
    }
   ],
   "source": [
    "pls = PLSRegression()\n",
    "pls.fit(X_train, y_train)\n",
    "\n",
    "predict = pls.predict(X_test)\n",
    "\n",
    "# calculate r_squared and rmse\n",
    "r_squared = pls.score(X_test, y_test)\n",
    "rmse = np.sqrt(np.mean((predict.reshape(-1) - y_test) ** 2))\n",
    "\n",
    "print(f\"R-squared test: {r_squared}\")\n",
    "print(f\"RMSE test: {rmse}\")"
   ]
  },
  {
   "cell_type": "markdown",
   "metadata": {},
   "source": [
    "#### Plot"
   ]
  },
  {
   "cell_type": "code",
   "execution_count": 118,
   "metadata": {},
   "outputs": [],
   "source": [
    "pls = PLSRegression(n_components=4)\n",
    "pls.fit(X_train, y_train)\n",
    "\n",
    "X_train_pls = pls.transform(X_train)\n",
    "X_test_pls = pls.transform(X_test)"
   ]
  },
  {
   "cell_type": "code",
   "execution_count": 120,
   "metadata": {},
   "outputs": [
    {
     "data": {
      "text/plain": [
       "Text(0, 0.5, 'Rings')"
      ]
     },
     "execution_count": 120,
     "metadata": {},
     "output_type": "execute_result"
    },
    {
     "data": {
      "image/png": "[encoded data removed]",
      "text/plain": [
       "<Figure size 640x480 with 4 Axes>"
      ]
     },
     "metadata": {},
     "output_type": "display_data"
    }
   ],
   "source": [
    "# Graficar las primeras 3 componentes principales\n",
    "# contra la variable objetivo\n",
    "fig = plt.subplots(2, 2)\n",
    "plt.subplot(2, 2, 1)\n",
    "plt.scatter(X_train_pls[:, 0], y_train)\n",
    "plt.xlabel('PLS1')\n",
    "plt.ylabel('Rings')\n",
    "plt.subplot(2, 2, 2)\n",
    "plt.scatter(X_train_pls[:, 1], y_train)\n",
    "plt.xlabel('PLS2')\n",
    "plt.ylabel('Rings')\n",
    "plt.subplot(2, 2, 3)\n",
    "plt.scatter(X_train_pls[:, 2], y_train)\n",
    "plt.xlabel('PLS3')\n",
    "plt.ylabel('Rings')\n",
    "plt.subplot(2, 2, 4)\n",
    "plt.scatter(X_train_pls[:, 3], y_train)\n",
    "plt.xlabel('PLS4')\n",
    "plt.ylabel('Rings')"
   ]
  },
  {
   "cell_type": "code",
   "execution_count": 124,
   "metadata": {},
   "outputs": [
    {
     "name": "stdout",
     "output_type": "stream",
     "text": [
      "Number of components: 7\n",
      "R-squared train: 0.53\n",
      "RMSE train: 2.21\n",
      "R-squared test: 0.53\n",
      "RMSE test: 2.25\n",
      "Number of components: 6\n",
      "R-squared train: 0.53\n",
      "RMSE train: 2.21\n",
      "R-squared test: 0.53\n",
      "RMSE test: 2.25\n",
      "Number of components: 5\n",
      "R-squared train: 0.52\n",
      "RMSE train: 2.23\n",
      "R-squared test: 0.52\n",
      "RMSE test: 2.29\n",
      "Number of components: 4\n",
      "R-squared train: 0.51\n",
      "RMSE train: 2.24\n",
      "R-squared test: 0.51\n",
      "RMSE test: 2.30\n",
      "Number of components: 3\n",
      "R-squared train: 0.51\n",
      "RMSE train: 2.24\n",
      "R-squared test: 0.51\n",
      "RMSE test: 2.30\n",
      "Number of components: 2\n",
      "R-squared train: 0.48\n",
      "RMSE train: 2.32\n",
      "R-squared test: 0.49\n",
      "RMSE test: 2.34\n",
      "Number of components: 1\n",
      "R-squared train: 0.32\n",
      "RMSE train: 2.63\n",
      "R-squared test: 0.35\n",
      "RMSE test: 2.66\n"
     ]
    }
   ],
   "source": [
    "# Remove variables iteratively\n",
    "for i in range(X_train.shape[1], 0, -1):\n",
    "    pls = PLSRegression(n_components=i)\n",
    "    pls.fit(X_train, y_train)\n",
    "    print(f\"Number of components: {i}\")\n",
    "    # predict train\n",
    "    predict_train = pls.predict(X_train)\n",
    "    r_squared = pls.score(X_train, y_train)\n",
    "    rmse = np.sqrt(np.mean((predict_train.reshape(-1) - y_train) ** 2))\n",
    "    print(f\"R-squared train: {r_squared:.4f}\")\n",
    "    print(f\"RMSE train: {rmse:.4f}\")\n",
    "    # predict test\n",
    "    predict = pls.predict(X_test)\n",
    "    r_squared = pls.score(X_test, y_test)\n",
    "    rmse = np.sqrt(np.mean((predict.reshape(-1) - y_test) ** 2))\n",
    "    print(f\"R-squared test: {r_squared:.4f}\")\n",
    "    print(f\"RMSE test: {rmse:.4f}\")"
   ]
  },
  {
   "cell_type": "markdown",
   "metadata": {},
   "source": [
    "Existe un cambio significativo ahasta las 2 componentes, por lo que se utilizara un modelo con 3 componentes."
   ]
  },
  {
   "cell_type": "code",
   "execution_count": null,
   "metadata": {},
   "outputs": [],
   "source": [
    "pls = PLSRegression(n_components=2)\n",
    "pls.fit(X_train, y_train)"
   ]
  },
  {
   "cell_type": "code",
   "execution_count": null,
   "metadata": {},
   "outputs": [],
   "source": [
    "predict_train = pls.predict(X_train)\n",
    "r_squared = pls.score(X_train, y_train)\n",
    "rmse = np.sqrt(np.mean((predict_train.reshape(-1) - y_train) ** 2))\n",
    "print(f\"R-squared train: {r_squared:.2f}\")\n",
    "print(f\"RMSE train: {rmse:.2f}\")\n",
    "# predict test\n",
    "predict = pls.predict(X_test)\n",
    "r_squared = pls.score(X_test, y_test)\n",
    "rmse = np.sqrt(np.mean((predict.reshape(-1) - y_test) ** 2))\n",
    "print(f\"R-squared test: {r_squared:.2f}\")\n",
    "print(f\"RMSE test: {rmse:.2f}\")"
   ]
  },
  {
   "cell_type": "code",
   "execution_count": null,
   "metadata": {},
   "outputs": [],
   "source": []
  }
 ],
 "metadata": {
  "kernelspec": {
   "display_name": "Python 3",
   "language": "python",
   "name": "python3"
  },
  "language_info": {
   "codemirror_mode": {
    "name": "ipython",
    "version": 3
   },
   "file_extension": ".py",
   "mimetype": "text/x-python",
   "name": "python",
   "nbconvert_exporter": "python",
   "pygments_lexer": "ipython3",
   "version": "3.10.8"
  },
  "orig_nbformat": 4
 },
 "nbformat": 4,
 "nbformat_minor": 2
}
